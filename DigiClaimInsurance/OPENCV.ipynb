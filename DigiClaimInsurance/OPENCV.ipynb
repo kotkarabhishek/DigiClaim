{
 "cells": [
  {
   "cell_type": "code",
   "execution_count": 5,
   "metadata": {},
   "outputs": [
    {
     "name": "stdout",
     "output_type": "stream",
     "text": [
      "\n",
      "\n",
      "\n",
      "\n",
      "\n",
      "\n",
      "\n",
      "\n"
     ]
    },
    {
     "data": {
      "image/png": "[encoded data removed]",
      "text/plain": [
       "<Figure size 432x288 with 4 Axes>"
      ]
     },
     "metadata": {},
     "output_type": "display_data"
    }
   ],
   "source": [
    "import cv2\n",
    "import matplotlib.pyplot as plt\n",
    "\n",
    "def main():\n",
    "    imgpath = \"C:\\\\Users\\\\Kotkar and Sons\\\\Desktop\\\\OPENCV\\\\o.jpg\"\n",
    "    img = cv2.imread(imgpath, 1)\n",
    "    img = cv2.cvtColor(img, cv2.COLOR_BGR2RGB)\n",
    "\n",
    "    edgesx = cv2.Scharr(img, -1, dx=1, dy=0, scale=1,\n",
    "                       delta=0, borderType=cv2.BORDER_DEFAULT)\n",
    "    \n",
    "    edgesy = cv2.Scharr(img, -1, dx=0, dy=1, scale=1,\n",
    "                       delta=0, borderType=cv2.BORDER_DEFAULT)\n",
    "    \n",
    "    edges = edgesx + edgesy\n",
    "\n",
    "    output = [img, edgesx, edgesy, edges]\n",
    "    titles = ['Original', 'dx=1 dy=0', 'dx=0 dy=1', 'Edges']\n",
    "    \n",
    "    for i in range(4):\n",
    "        plt.subplot(2, 2, i+1)\n",
    "       # plt.imshow(output[i], cmap = 'gray')\n",
    "        plt.title(titles[i])\n",
    "        plt.xticks([])\n",
    "        plt.yticks([])\n",
    "  # plt.show()\n",
    "#     print(edges.shape)\n",
    "#     for i in range(630):\n",
    "#         for j in range(630):\n",
    "#             for k in range(3):\n",
    "#                 print(edges[i][j][k]+\" \")\n",
    "        print(\"\\n\")    \n",
    "if __name__ == \"__main__\":\n",
    "    main()"
   ]
  },
  {
   "cell_type": "code",
   "execution_count": null,
   "metadata": {},
   "outputs": [],
   "source": [
    "import matplotlib.pyplot as plt\n",
    "import cv2\n",
    "\n",
    "def main():\n",
    "    imgpath = \"C:\\\\Users\\\\Kotkar and Sons\\\\Desktop\\\\OPENCV\\\\broken.jpg\"\n",
    "    img = cv2.imread(imgpath, 1)\n",
    "    img = cv2.cvtColor(img, cv2.COLOR_BGR2RGB)\n",
    "\n",
    "    edgesx = cv2.Scharr(img, -1, dx=1, dy=0, scale=1,\n",
    "                       delta=0, borderType=cv2.BORDER_DEFAULT)\n",
    "    \n",
    "    edgesy = cv2.Scharr(img, -1, dx=0, dy=1, scale=1,\n",
    "                       delta=0, borderType=cv2.BORDER_DEFAULT)\n",
    "    \n",
    "    edges = edgesx + edgesy\n",
    "\n",
    "    output = [img, edgesx, edgesy, edges]\n",
    "    titles = ['Original', 'dx=1 dy=0', 'dx=0 dy=1', 'Edges']\n",
    "    \n",
    "    for i in range(4):\n",
    "        plt.subplot(2, 2, i+1)\n",
    "        plt.imshow(output[i], cmap = 'gray')\n",
    "        plt.title(titles[i])\n",
    "        plt.xticks([])\n",
    "        plt.yticks([])\n",
    "    plt.show()\n",
    "    z=edges.shape\n",
    "    for i in range(z[0]):\n",
    "        for j in range(z[1]):\n",
    "            for k in range(3):\n",
    "                print(edges[i][j][k], end = '')\n",
    "                print(\" \", end = '')\n",
    "            print()\n",
    "\n",
    "if __name__ == \"__main__\":\n",
    "    main()"
   ]
  },
  {
   "cell_type": "code",
   "execution_count": null,
   "metadata": {},
   "outputs": [],
   "source": []
  }
 ],
 "metadata": {
  "kernelspec": {
   "display_name": "Python 3",
   "language": "python",
   "name": "python3"
  },
  "language_info": {
   "codemirror_mode": {
    "name": "ipython",
    "version": 3
   },
   "file_extension": ".py",
   "mimetype": "text/x-python",
   "name": "python",
   "nbconvert_exporter": "python",
   "pygments_lexer": "ipython3",
   "version": "3.6.5"
  }
 },
 "nbformat": 4,
 "nbformat_minor": 2
}
